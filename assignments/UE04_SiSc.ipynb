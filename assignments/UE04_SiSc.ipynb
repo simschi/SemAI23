{
  "nbformat": 4,
  "nbformat_minor": 0,
  "metadata": {
    "colab": {
      "provenance": []
    },
    "kernelspec": {
      "name": "python3",
      "display_name": "Python 3"
    },
    "language_info": {
      "name": "python"
    }
  },
  "cells": [
    {
      "cell_type": "markdown",
      "source": [
        "Course Instructor: Bernd Neumayr, JKU\n",
        "\n",
        "# UE04- SPARQL Updata and RDF Datasets\n",
        "\n",
        "Complete the **8 tasks (1 point per task)** in the `3. SPARQL Update` sheet of `SemAI.jar` first and then transfer them to this notebook.\n",
        "\n",
        "For each task include:\n",
        "- A headline including the task number\n",
        "- The task description \n",
        "- Your solution in executable form: your solutions for SemAI.jar will make use of the default grap. In this notebook you have to transform your solutions according to the workaround exemplified in V04_SPARQL_Update.ipynb\n",
        "- After executing the update request, print a serizalization of the dataset in TriG format.  \n",
        "\n",
        "**Task 9 (2 points)**  is to develop a nice visualization of RDF datasets using `visualize_graph_pyvis` from UE02 as a starting point. The requirements are as follows:\n",
        "- Each named graph must be represented as an independent graph. This means, for example, that :Jane in :JanesGraph is a different node than :Jane in :BillsGraph. There are no edges between nodes in different graphs.\n",
        "- It is not strictly necessary to draw a box around each named graph, as seen in the slides. The different named graphs should simply be visually distinguishable and not overlap.\n",
        "- If not all nodes within a named graph are connected, make sure in the visualization that the named graph still forms a coherent visual unit in some way."
      ],
      "metadata": {
        "id": "HnpijZy2D1Hd"
      }
    },
    {
      "cell_type": "markdown",
      "source": [
        "## Preparations"
      ],
      "metadata": {
        "id": "p4n6njYMwKcD"
      }
    },
    {
      "cell_type": "code",
      "source": [
        "# Install required packages\n",
        "!pip install -q rdflib     # comment to avoid re-install with every re-run"
      ],
      "metadata": {
        "id": "pQNOReanEJaW"
      },
      "execution_count": null,
      "outputs": []
    },
    {
      "cell_type": "markdown",
      "source": [
        "### Imports and Functions \n",
        "\n",
        "We are re-using the sparql_select function. "
      ],
      "metadata": {
        "id": "wpAd5jCpvMI5"
      }
    },
    {
      "cell_type": "code",
      "execution_count": null,
      "metadata": {
        "id": "ZzA1lueCDfnu"
      },
      "outputs": [],
      "source": [
        "# Imports\n",
        "import pandas as pd\n",
        "import rdflib\n",
        "from rdflib import Graph, Literal, RDF, URIRef, BNode, Namespace\n",
        "\n",
        "\n",
        "# Convenient Functions\n",
        "def sparql_select(graph,query,use_prefixes=True):\n",
        "  results = graph.query(query)          # execute the query against the graph, resulting in a rdflib.plugins.sparql.processor.SPARQLResult\n",
        "  rows = []                             # a list of dictionaries, as intermediate format to construct the pandas DataFrame\n",
        "  for result in results:                # iterate over the result set of the query, a result is an instance of rdflib.query.ResultRow\n",
        "    row = {}                            #     create a dictionary to hold a single row of the result\n",
        "    for var in results.vars:            #     iterate over the variables of the SPARQLResult to add a dictionary entry for each variable\n",
        "      if (isinstance(result[var],URIRef) and use_prefixes):\n",
        "        row[var] = result[var].n3(graph.namespace_manager)   # use namespace prefixes to shorten URIs\n",
        "      else:\n",
        "        row[var] = result[var]                  \n",
        "    rows.append(row)                    #     add the dictionary (row) to the list \n",
        "  return pd.DataFrame(rows,columns=results.vars)        \n",
        "                                        # return a pandas DataFrame constructed from the list of dictionaries, with the variables from the result set as columns      \n"
      ]
    },
    {
      "cell_type": "markdown",
      "source": [
        "# 1. Task 1\n",
        "\n",
        "Sie beginnen mit einem leeren Dataset. Fügen Sie in den Default Graph Statements ein, die sagen, dass :Peter der Autor von :G1 ist, und :Mary Autor von :G2."
      ],
      "metadata": {
        "id": "CnxsJEX5xVn7"
      }
    },
    {
      "cell_type": "code",
      "source": [
        "ds = rdflib.Dataset()\n",
        "\n",
        "ds.parse(format=\"trig\", data=\"\"\"\n",
        "  @prefix : <http://example.org/> .\n",
        "  @prefix xrdf: <urn:x-rdflib:> .\n",
        "\"\"\")\n",
        "\n",
        "ds.update(\"\"\"\n",
        "  INSERT DATA {\n",
        "    GRAPH xrdf:default {\n",
        "      :G1 :author :Mary.\n",
        "  :G2 :author :Peter.\n",
        "    }\n",
        "};\n",
        "\"\"\")\n",
        "\n",
        "print(ds.serialize(format=\"trig\"))"
      ],
      "metadata": {
        "id": "fLLpF5zPydjK"
      },
      "execution_count": null,
      "outputs": []
    },
    {
      "cell_type": "markdown",
      "source": [
        "# 2. Task 2\n",
        "\n",
        "Schreiben Sie { :Mary :knows :Peter, :John, :Mary. } in den Named Graph :G1 und { :Peter :knows :Mary. :John :knows :Mary. } in den Named Graph :G2."
      ],
      "metadata": {
        "id": "dv1Tn3OIzOAy"
      }
    },
    {
      "cell_type": "code",
      "source": [
        "ds.update(\"\"\"\n",
        "  INSERT DATA {\n",
        "    GRAPH :G1 {\n",
        "      :Mary :knows :Peter, :John, :Mary.  \n",
        "    }\n",
        "    GRAPH :G2 {\n",
        "      :Peter :knows :Mary.\n",
        "      :John :knows :Mary.\n",
        "    }\n",
        "  }\n",
        "\"\"\")\n",
        "\n",
        "print(ds.serialize(format=\"trig\"))"
      ],
      "metadata": {
        "id": "p-Q_q9uszUux"
      },
      "execution_count": null,
      "outputs": []
    },
    {
      "cell_type": "markdown",
      "source": [
        "# 3. Task 3\n",
        "\n",
        "Fragen Sie mittels INSERT-WHERE die :knows-Beziehungen aus :G2 ab und fügen deren inverse :knownBy-Beziehungen in den Default-Graph ein.\n",
        "Ihr Update Request darf nicht enthalten: [Mary, Peter, John]"
      ],
      "metadata": {
        "id": "QMRky_6m45M3"
      }
    },
    {
      "cell_type": "code",
      "source": [
        "ds.update(\"\"\"\n",
        "  INSERT {\n",
        "    GRAPH xrdf:default { \n",
        "      ?o :knownBy ?s \n",
        "    }\n",
        "  }\n",
        "  WHERE {\n",
        "    GRAPH :G2 {\n",
        "      ?s :knows ?o\n",
        "    }\n",
        "  }\n",
        "\"\"\")\n",
        "\n",
        "print(ds.serialize(format=\"trig\"))"
      ],
      "metadata": {
        "id": "hkZ87dOW4_GA"
      },
      "execution_count": null,
      "outputs": []
    },
    {
      "cell_type": "markdown",
      "source": [
        "# 4. Task 4\n",
        "\n",
        "Löschen Sie mittels DELETE-WHERE alle :knownBy-Beziehungen aus dem Default-Graph.\n",
        "Ihr Update Request darf nicht enthalten: [Mary, Peter, John]"
      ],
      "metadata": {
        "id": "CQ12HpIM8A3h"
      }
    },
    {
      "cell_type": "code",
      "source": [
        "ds.update(\"\"\"\n",
        "  DELETE {\n",
        "    GRAPH xrdf:default {\n",
        "      ?s :knownBy ?o\n",
        "    }\n",
        "  }\n",
        "  WHERE {\n",
        "    ?s :knownBy ?o.\n",
        "  }\n",
        "\"\"\")\n",
        "\n",
        "print(ds.serialize(format=\"trig\"))"
      ],
      "metadata": {
        "id": "6lsqqu6d8HAz"
      },
      "execution_count": null,
      "outputs": []
    },
    {
      "cell_type": "markdown",
      "source": [
        "# 5. Task 5\n",
        "\n",
        "Ermitteln Sie mittels INSERT-WHERE zu jedem Named-Graph dessen Anzahl an Statements mit der Property :knows und schreiben Sie diese in den Default Graph.\n",
        "Ihr Update Request darf nicht enthalten: [G1, G2]"
      ],
      "metadata": {
        "id": "n7pC3XkS8yJP"
      }
    },
    {
      "cell_type": "code",
      "source": [
        "ds.update(\"\"\"\n",
        "  INSERT {\n",
        "    GRAPH xrdf:default {\n",
        "      ?g :knowsCount ?count\n",
        "    }\n",
        "  }\n",
        "  WHERE {\n",
        "    SELECT ?g (COUNT(?o) AS ?count)\n",
        "    WHERE {\n",
        "      GRAPH ?g {\n",
        "        ?s :knows ?o.\n",
        "      }\n",
        "    }\n",
        "    GROUP BY ?g\n",
        "  }\n",
        "\"\"\")\n",
        "\n",
        "print(ds.serialize(format=\"trig\"))"
      ],
      "metadata": {
        "id": "IXTn3JqB82nx"
      },
      "execution_count": null,
      "outputs": []
    },
    {
      "cell_type": "markdown",
      "source": [
        "# 6. Task 6\n",
        "\n",
        "Ermitteln Sie mittels INSERT-WHERE die Anzahl an Named Graphs und schreiben Sie sie in den Default Graph.\n",
        "Ihr Update Request darf nicht enthalten: [2]"
      ],
      "metadata": {
        "id": "MbD2mvVEAfcw"
      }
    },
    {
      "cell_type": "code",
      "source": [
        "ds.update(\"\"\"\n",
        "  INSERT {\n",
        "    GRAPH xrdf:default {\n",
        "      :ds :graphCount ?count\n",
        "    }\n",
        "  }\n",
        "  WHERE {\n",
        "    SELECT (COUNT(?g) AS ?count)\n",
        "    WHERE {\n",
        "      GRAPH ?g {\n",
        "      }\n",
        "    }\n",
        "  }\n",
        "\"\"\")\n",
        "\n",
        "print(ds.serialize(format=\"trig\"))"
      ],
      "metadata": {
        "id": "-F51n8eBAoEL"
      },
      "execution_count": null,
      "outputs": []
    },
    {
      "cell_type": "markdown",
      "source": [
        "# 7. Task 7\n",
        "\n",
        "Verschieben Sie mittels DELETE-INSERT-WHERE alle Metadaten zu Named Graphs (also Statements die einen Named Graph als Subjekt haben) in den entsprechenden Named Graph.\n",
        "Ihr Update Request darf nicht enthalten: [G1, G2]"
      ],
      "metadata": {
        "id": "pA7-pEPCDwr4"
      }
    },
    {
      "cell_type": "code",
      "source": [
        "ds.update(\"\"\"\n",
        "  DELETE { ?g ?p ?o }\n",
        "  INSERT { GRAPH ?g { ?g ?p ?o } }\n",
        "  WHERE {\n",
        "    SELECT ?g ?p ?o\n",
        "    WHERE {\n",
        "      ?g ?p ?o.\n",
        "      GRAPH ?g { }.\n",
        "    }\n",
        "  }\n",
        "\"\"\")\n",
        "\n",
        "print(ds.serialize(format=\"trig\"))"
      ],
      "metadata": {
        "id": "9Qx6TR74D0lY"
      },
      "execution_count": null,
      "outputs": []
    },
    {
      "cell_type": "markdown",
      "source": [
        "# 8. Task 8\n",
        "\n",
        "Schreiben Sie in jeden Named Graph ein Statement, dass der Autor des jeweiligen Named Graphs die :Susi kennt und aktualisieren Sie mit dem selben UpdateRequest den knowsCount.\n",
        "Ihr Update Request darf nicht enthalten: [Peter, Mary]"
      ],
      "metadata": {
        "id": "D1v2FwhnFkFg"
      }
    },
    {
      "cell_type": "code",
      "source": [
        "ds.update(\"\"\"\n",
        "   DELETE WHERE { GRAPH ?g { ?g :knowsCount ?o } };\n",
        "\n",
        "   INSERT {\n",
        "     GRAPH ?g {\n",
        "       ?a :knows :Susi.\n",
        "     }\n",
        "   }\n",
        "   WHERE {\n",
        "     SELECT ?g ?a \n",
        "     WHERE {\n",
        "       GRAPH ?g {\n",
        "         ?g :author ?a\n",
        "       }\n",
        "     }\n",
        "   };\n",
        "\n",
        "   INSERT {\n",
        "     GRAPH ?g {\n",
        "       ?g :knowsCount ?count\n",
        "     }\n",
        "   }\n",
        "   WHERE { \n",
        "     SELECT ?g (COUNT(?o) AS ?count)\n",
        "       WHERE {\n",
        "         GRAPH ?g {\n",
        "           ?s :knows ?o.\n",
        "         }\n",
        "       }\n",
        "       GROUP BY ?g\n",
        "   };\n",
        "\"\"\")\n",
        "\n",
        "print(ds.serialize(format=\"trig\"))"
      ],
      "metadata": {
        "id": "obIVNiT9FpT4"
      },
      "execution_count": null,
      "outputs": []
    },
    {
      "cell_type": "markdown",
      "source": [
        "# 9. Task 9\n",
        "\n",
        "Develop a nice visualization of RDF datasets using visualize_graph_pyvis from UE02 as a starting point. The requirements are as follows:\n",
        "\n",
        "* Each named graph must be represented as an independent graph. This means, for example, that :Jane in :JanesGraph is a different node than :Jane in :BillsGraph. There are no edges between nodes in different graphs.\n",
        "* It is not strictly necessary to draw a box around each named graph, as seen in the slides. The different named graphs should simply be visually distinguishable and not overlap.\n",
        "* If not all nodes within a named graph are connected, make sure in the visualization that the named graph still forms a coherent visual unit in some way."
      ],
      "metadata": {
        "id": "St-ewZN_I-cq"
      }
    }
  ]
}