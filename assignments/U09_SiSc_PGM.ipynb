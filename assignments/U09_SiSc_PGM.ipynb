{
  "nbformat": 4,
  "nbformat_minor": 0,
  "metadata": {
    "colab": {
      "provenance": []
    },
    "kernelspec": {
      "name": "python3",
      "display_name": "Python 3"
    },
    "language_info": {
      "name": "python"
    }
  },
  "cells": [
    {
      "cell_type": "markdown",
      "source": [
        "# Bayesian Networks in Python\n",
        "\n",
        "In this tutorial, we will explore how to use Bayesian networks in Python using the `pgmpy` library.\n",
        "\n",
        "See documentation at:\n",
        "- https://pgmpy.org/\n",
        "- https://pgmpy.org/models/bayesiannetwork.html\n",
        "- https://pgmpy.org/factors/discrete.html\n",
        "- https://pgmpy.org/exact_infer/ve.html"
      ],
      "metadata": {
        "id": "2G5_9hI8Oegc"
      }
    },
    {
      "cell_type": "markdown",
      "source": [
        "## Implementation in Python using `pgmpy`.\n",
        "\n",
        "Let's start by installing the `pgmpy` library."
      ],
      "metadata": {
        "id": "1tVLWr-_Tn4I"
      }
    },
    {
      "cell_type": "code",
      "execution_count": null,
      "metadata": {
        "id": "PJ_P6rynObjV"
      },
      "outputs": [],
      "source": [
        "!pip install -q pgmpy networkx matplotlib plotly daft"
      ]
    },
    {
      "cell_type": "markdown",
      "source": [
        "Import the required libraries."
      ],
      "metadata": {
        "id": "k12GLfW8O1Iz"
      }
    },
    {
      "cell_type": "code",
      "source": [
        "import numpy as np\n",
        "from pgmpy.models import BayesianNetwork\n",
        "from pgmpy.factors.discrete import TabularCPD\n",
        "import networkx as nx\n",
        "import matplotlib.pyplot as plt"
      ],
      "metadata": {
        "id": "BP8gltvIO7mU"
      },
      "execution_count": null,
      "outputs": []
    },
    {
      "cell_type": "markdown",
      "source": [
        "**2. Umsetzung und Beantwortung von Fragen mittels pgmpy. Abzugeben ist ein Jupyter Notebook. Sie können sich bei Ihrer Lösung an https://github.com/jku-win-dke/SemAI/blob/main/V08_PGM.ipynb orientieren. (insgesamt 5 Punkte)**\n",
        "\n",
        "Es sind jeweils folgende Aufgaben zu erfüllen bzw Fragen zu beantworten (jeweils 1 Punkt):\n",
        "\n",
        "\n"
      ],
      "metadata": {
        "id": "WZ9fWpP8O7OD"
      }
    },
    {
      "cell_type": "markdown",
      "source": [
        "a) Erstellung des Bayes’schen Netzes (Struktur + Wahrscheinlichkeiten)"
      ],
      "metadata": {
        "id": "F509VhEtM9Rb"
      }
    },
    {
      "cell_type": "code",
      "source": [
        "# Define the network structure\n",
        "model = BayesianNetwork([('TrainStrike', 'PeterLate'), ('TrainStrike', 'JohannaLate'), ('PetersAlarmFails', 'PeterLate')])\n",
        "\n",
        "statenames = { 'TrainStrike': ['True', 'False'], 'PeterLate': ['True', 'False'], 'JohannaLate': ['True', 'False'], 'PetersAlarmFails': ['True', 'False']}\n",
        "\n",
        "# Define the probability distribution for 'TrainStrike' (P(T))\n",
        "cpd_trainstrike = TabularCPD(variable='TrainStrike', variable_card=2,\n",
        "                              state_names=statenames,\n",
        "                              values=[[0.05], [0.95]])\n",
        "\n",
        "# Define the probability distribution for 'PetersAlarmFails' (P(A))\n",
        "cpd_petersalarmfails = TabularCPD(variable='PetersAlarmFails', variable_card=2,\n",
        "                                    state_names=statenames,\n",
        "                                    values=[[0.1], [0.9]])\n",
        "\n",
        "# Define the conditional probability distribution for 'JohannaLate' (P(J|T))\n",
        "cpd_johannalate = TabularCPD(variable='JohannaLate', variable_card=2,\n",
        "                              state_names=statenames,\n",
        "                              evidence=['TrainStrike'], evidence_card=[2],\n",
        "                              values=[[0.5, 0.02],\n",
        "                                      [0.5, 0.98]])\n",
        "\n",
        "# Define the conditional probability distribution for 'PeterLate' (P(P|T,A))\n",
        "cpd_peterlate = TabularCPD(variable='PeterLate', variable_card=2,\n",
        "                              state_names=statenames,\n",
        "                              evidence=['PetersAlarmFails', 'TrainStrike'], evidence_card=[2, 2],\n",
        "                              values=[[0.7, 0.4, 0.3, 0.01],\n",
        "                                      [0.3, 0.6, 0.7, 0.99]])\n",
        "\n",
        "# Add the probability distributions to the model\n",
        "model.add_cpds(cpd_trainstrike, cpd_petersalarmfails, cpd_johannalate, cpd_peterlate)\n",
        "model.to_daft(node_pos={\"TrainStrike\": (0, 2), \"JohannaLate\": (0, 0), \"PeterLate\": (2, 0), \"PetersAlarmFails\": (2, 2)}).render()\n",
        "\n",
        "print(cpd_trainstrike)\n",
        "print(cpd_petersalarmfails)\n",
        "print(cpd_johannalate)\n",
        "print(cpd_peterlate)\n"
      ],
      "metadata": {
        "id": "JhDmRSpMO_-d"
      },
      "execution_count": null,
      "outputs": []
    },
    {
      "cell_type": "markdown",
      "source": [
        "b) Wie hoch ist die Wahrscheinlichkeit, dass Johanna bzw Peter zu spät in die Arbeit kommen?"
      ],
      "metadata": {
        "id": "PYU2Gp8TSlSN"
      }
    },
    {
      "cell_type": "code",
      "source": [
        "from pgmpy.inference import VariableElimination\n",
        "inference = VariableElimination(model)\n",
        "\n",
        "print(inference.query(variables=['JohannaLate']))"
      ],
      "metadata": {
        "id": "6FFM6rfeSqYD"
      },
      "execution_count": null,
      "outputs": []
    },
    {
      "cell_type": "markdown",
      "source": [
        "c) Wie hoch ist die Wahrscheinlichkeit, dass Johanna zu spät in die Arbeit kommt, falls Peters Wecker nicht funktioniert?"
      ],
      "metadata": {
        "id": "AQ6PT3g0TR30"
      }
    },
    {
      "cell_type": "code",
      "source": [
        "evidence={'PetersAlarmFails':'True'}\n",
        "result = inference.query(variables=['JohannaLate'], evidence=evidence)\n",
        "print(evidence)\n",
        "print(result)"
      ],
      "metadata": {
        "id": "mK7B1UmZTU0G"
      },
      "execution_count": null,
      "outputs": []
    },
    {
      "cell_type": "markdown",
      "source": [
        "d) Wie hoch ist die Wahrscheinlichkeit, dass Johanna zu spät in die Arbeit kommt, wenn Peter zu spät in die Arbeit kommt?"
      ],
      "metadata": {
        "id": "cgWf4OWiTnXO"
      }
    },
    {
      "cell_type": "code",
      "source": [
        "evidence={'PeterLate':'True'}\n",
        "result = inference.query(variables=['JohannaLate'], evidence=evidence)\n",
        "print(evidence)\n",
        "print(result)"
      ],
      "metadata": {
        "id": "Xu4rYKvGTqvW"
      },
      "execution_count": null,
      "outputs": []
    },
    {
      "cell_type": "markdown",
      "source": [
        "e) Wie hoch ist die Wahrscheinlichkeit, dass Johanna zu spät in die Arbeit kommt, wenn Peter zu spät in die Arbeit kommt obwohl Peters Wecker funktioniert?"
      ],
      "metadata": {
        "id": "pcwF-Et9T0ol"
      }
    },
    {
      "cell_type": "code",
      "source": [
        "evidence={'PeterLate':'True', 'PetersAlarmFails':'False'}\n",
        "result = inference.query(variables=['JohannaLate'], evidence=evidence)\n",
        "print(evidence)\n",
        "print(result)"
      ],
      "metadata": {
        "id": "8yNu8g-YT2_l"
      },
      "execution_count": null,
      "outputs": []
    }
  ]
}